{
 "cells": [
  {
   "cell_type": "markdown",
   "metadata": {},
   "source": [
    "Sređivanje TextGridova koje nam je dao MFA "
   ]
  },
  {
   "cell_type": "code",
   "execution_count": 2,
   "metadata": {},
   "outputs": [],
   "source": [
    "#Dobili smo od MFA segmentisane recenice u nekom ruznom formatu pa sad izvlacimo samo foneme, njihove od-do trenutke i naziv fajla iz kog su\n",
    "\n",
    "def parse_textgrid(file_path):\n",
    "    with open(file_path, 'r', encoding='utf-8', errors='ignore') as file:\n",
    "        lines = file.readlines()\n",
    "\n",
    "    phonemes = []\n",
    "    in_phones_section = False\n",
    "    phoneme = {}\n",
    "\n",
    "    for line in lines:\n",
    "        line = line.strip()\n",
    "        if 'name = \"phones\"' in line: \n",
    "            in_phones_section = True\n",
    "        elif 'name = \"words\"' in line:  \n",
    "            in_phones_section = False\n",
    "\n",
    "        if in_phones_section:\n",
    "            if line.startswith('intervals ['):\n",
    "                phoneme = {}  \n",
    "            elif line.startswith('xmin ='):\n",
    "                phoneme['xmin'] = float(line.split('=')[1].strip())\n",
    "            elif line.startswith('xmax ='):\n",
    "                phoneme['xmax'] = float(line.split('=')[1].strip())\n",
    "            elif line.startswith('text ='):\n",
    "                phoneme['text'] = line.split('=')[1].strip().strip('\"')\n",
    "                phonemes.append(phoneme) \n",
    "\n",
    "    return phonemes #ovo je niz koji sadrzi fonemu, od kad do kad traje i naziv fajla iz kog je uzeta"
   ]
  },
  {
   "cell_type": "code",
   "execution_count": 3,
   "metadata": {},
   "outputs": [],
   "source": [
    "#Sad koristimo ovu gore funkciju da prodjemo kroz sve TextGridove i napravimo 'svaka_fonema_od_do.txt' \n",
    "#Svaki red ce imati format: fonema xmin xmax duration filename\n",
    "\n",
    "import os \n",
    "\n",
    "textgrid_directory = 'LJSpeech Dataset/LJSpeech-1.1/out'\n",
    "output_file_path = 'svaka_fonema_od_do.txt'\n",
    "\n",
    "for filename in os.listdir(textgrid_directory):\n",
    "    if filename.endswith('.TextGrid'):\n",
    "        file_path = os.path.join(textgrid_directory, filename)\n",
    "        phonemes = parse_textgrid(file_path)\n",
    "\n",
    "        with open(output_file_path, 'a', encoding='utf-8') as output_file:\n",
    "            for phoneme in phonemes:\n",
    "                if phoneme.get('text'):  # Ignorisanje praznog teksta\n",
    "                    duration = phoneme['xmax'] - phoneme['xmin']\n",
    "                    output_file.write(f\"{phoneme['text']}\\t{phoneme['xmin']}\\t{phoneme['xmax']}\\t{duration:.3f}\\t{filename.replace('.TextGrid', '.wav')}\\n\")\n",
    "\n",
    "print(\"Završeno je parsiranje i čuvanje fonema.\")\n"
   ]
  },
  {
   "cell_type": "code",
   "execution_count": null,
   "metadata": {},
   "outputs": [],
   "source": [
    "#Sad koristimo fajl 'svaka_fonema_od_do.txt'  da dobijemo fajl 'foneme_prosecna_duzina.txt'\n",
    "\n",
    "from collections import defaultdict\n",
    "\n",
    "input_file_path = 'svaka_fonema_od_do.txt'\n",
    "output_file_path = 'foneme_prosecna_duzina.txt'\n",
    "\n",
    "phoneme_durations = defaultdict(list)\n",
    "\n",
    "with open(input_file_path, 'r', encoding='utf-8') as file:\n",
    "    for line in file:\n",
    "        parts = line.strip().split('\\t')\n",
    "        print(parts)\n",
    "        if len(parts) == 5:\n",
    "            phoneme, xmin, xmax, leng, fajl = parts\n",
    "            duration = float(leng)\n",
    "            phoneme_durations[phoneme].append(duration)\n",
    "            \n",
    "average_durations = {phoneme: sum(durations) / len(durations)\n",
    "    for phoneme, durations in phoneme_durations.items()}\n",
    "\n",
    "with open(output_file_path, 'w', encoding='utf-8') as file:\n",
    "    for phoneme, avg_duration in average_durations.items():\n",
    "        file.write(f\"{phoneme}\\t{avg_duration:.6f}\\n\")\n",
    "        \n",
    "print(\"Završeno je izračunavanje i čuvanje prosečne dužine trajanja fonema.\")"
   ]
  },
  {
   "cell_type": "markdown",
   "metadata": {},
   "source": [
    "Cuvanje optimalnog snimka svake foneme"
   ]
  },
  {
   "cell_type": "code",
   "execution_count": null,
   "metadata": {},
   "outputs": [],
   "source": [
    "#Pravimo rucno razmak jer ga MFA nije snimio\n",
    "\n",
    "def create_silent_audio(duration_ms=150):\n",
    "    silent_segment = AudioSegment.silent(duration=duration_ms)\n",
    "    \n",
    "    silent_file_path = os.path.join('foneme_wavs', 'silent.wav')\n",
    "    \n",
    "    if not os.path.exists('foneme_wavs'):\n",
    "        os.makedirs('foneme_wavs')\n",
    "    \n",
    "    silent_segment.export(silent_file_path, format='wav')\n",
    "    print(f\"Kratak prazan audio fajl je kreiran na putanji: {silent_file_path}\")\n",
    "\n",
    "create_silent_audio()"
   ]
  },
  {
   "cell_type": "code",
   "execution_count": null,
   "metadata": {},
   "outputs": [],
   "source": [
    "#Funkcija za brze citanje prosecne duzine foneme\n",
    "\n",
    "def prosecna_duzina(fonema):\n",
    "    with open('foneme_prosecna_duzina.txt', 'r', encoding='utf-8') as f:\n",
    "        lines = f.readlines()\n",
    "\n",
    "    for line in lines:\n",
    "        parts = line.strip().split('\\t')\n",
    "        if len(parts) == 2:\n",
    "            phoneme_text, avg_duration = parts\n",
    "            if phoneme_text == fonema:\n",
    "                return float(avg_duration)\n",
    "    return None"
   ]
  },
  {
   "cell_type": "code",
   "execution_count": null,
   "metadata": {},
   "outputs": [],
   "source": [
    "#Prolazimo kroz sva ponavljanja neke foneme i trazimo ono cija je duzina najbliza prosecnoj duzini te foneme\n",
    "#Rezultat isecemo iz fajla u kom je nadjen i ubacujemo ga u folder 'foneme_wavs'\n",
    "\n",
    "import os\n",
    "from pydub import AudioSegment\n",
    "import numpy as np\n",
    "\n",
    "def optimalna_fonema(fonema):\n",
    "    avg_duration = prosecna_duzina(fonema)\n",
    "    if avg_duration is None:\n",
    "        print(f\"Prosečna dužina za fonemu {fonema} nije pronađena\")\n",
    "        return\n",
    "\n",
    "    optimal_duration_diff = float('inf')\n",
    "    optimal_start = None\n",
    "    optimal_end = None\n",
    "    optimal_file = None\n",
    "\n",
    "    with open('svaka_fonema_od_do.txt', 'r', encoding='utf-8') as f:\n",
    "        lines = f.readlines()\n",
    "\n",
    "    for line in lines:\n",
    "        parts = line.strip().split('\\t')\n",
    "        if len(parts) == 5:\n",
    "            fon, pocetak, kraj, trajanje, fajl = parts\n",
    "            trajanje = float(trajanje)  \n",
    "            pocetak = float(pocetak)   \n",
    "            kraj = float(kraj)          \n",
    "\n",
    "            if fon == fonema:\n",
    "                duration_diff = abs(trajanje - avg_duration)\n",
    "                if duration_diff < optimal_duration_diff:\n",
    "                    optimal_duration_diff = duration_diff\n",
    "                    optimal_start = pocetak\n",
    "                    optimal_end = kraj\n",
    "                    optimal_file = fajl\n",
    "\n",
    "    if optimal_file is not None:\n",
    "        audio = AudioSegment.from_wav(os.path.join('LJSpeech Dataset/LJSpeech-1.1/wavs', optimal_file))\n",
    "        segment = audio[optimal_start * 1000:optimal_end * 1000]\n",
    "\n",
    "        output_dir = 'foneme_wavs'\n",
    "        os.makedirs(output_dir, exist_ok=True)\n",
    "\n",
    "        output_path = os.path.join(output_dir, f\"{fonema}_optimal.wav\")\n",
    "        segment.export(output_path, format='wav')\n",
    "        print(f\"Optimalni segment foneme {fonema} sačuvan u {output_path}\")\n",
    "\n",
    "    else:\n",
    "        print(f\"Fonema {fonema} nije pronađena u fajlu\")"
   ]
  },
  {
   "cell_type": "code",
   "execution_count": null,
   "metadata": {},
   "outputs": [],
   "source": [
    "#Pozivamo gornju funkciju za svaku fonemu da bismo imali optimalne snimke koje cemo posle da lepimo\n",
    "\n",
    "def sacuvaj_sve_foneme():\n",
    "    foneme = []\n",
    "    with open('foneme_prosecna_duzina.txt', 'r', encoding='utf-8') as f:\n",
    "        lines = f.readlines()\n",
    "        for line in lines:\n",
    "            parts = line.strip().split('\\t')\n",
    "            if len(parts) == 2:\n",
    "                foneme.append(parts[0])\n",
    "\n",
    "    for fonema in foneme:\n",
    "        optimalna_fonema(fonema)"
   ]
  },
  {
   "cell_type": "code",
   "execution_count": null,
   "metadata": {},
   "outputs": [],
   "source": [
    "#Sad tek zapravo pozivamo gornje 3 funkcije i dobijamo snimke fonema u novom folderu\n",
    "\n",
    "sacuvaj_sve_foneme()"
   ]
  },
  {
   "cell_type": "markdown",
   "metadata": {},
   "source": [
    "Pretvaranje teksta u foneme (G2P)"
   ]
  },
  {
   "cell_type": "code",
   "execution_count": null,
   "metadata": {},
   "outputs": [
    {
     "name": "stdout",
     "output_type": "stream",
     "text": [
      "['HH', 'AH0', 'L', 'OW1', ' ', 'AY1', ' ', 'AE1', 'M', ' ', 'N', 'AA0', 'T', 'AA1', 'S', 'AH0', ' ', 'AH0', 'N', 'D', ' ', 'AY1', ' ', 'L', 'AH1', 'V', ' ', 'K', 'OW1', 'K', 'AH0', 'N', 'AH2', 'T', 'S']\n"
     ]
    }
   ],
   "source": [
    "#Koristimo G2P jer ne MFA retardiran i nmg da ga namestim kod sebe pa su foneme drugacije oznacene\n",
    "\n",
    "from g2p_en import G2p\n",
    "\n",
    "def text2phoneme(text):\n",
    "    g2p = G2p()\n",
    "    fonemi = g2p(text)\n",
    "    return fonemi\n",
    "\n",
    "print(text2phoneme(\"Hello I am Natasa and I love coconuts\"))"
   ]
  },
  {
   "cell_type": "code",
   "execution_count": null,
   "metadata": {},
   "outputs": [],
   "source": [
    "#Mapiramo G2P foneme (dobijene od teksta) na MFA foneme (dobijene od audia)\n",
    "\n",
    "phoneme_map = {\n",
    "    'AA': 'ɑː', 'AA0': 'ɑː', 'AA1': 'ɑː', 'AA2': 'ɑː',\n",
    "    'AE': 'æ', 'AE0': 'æ', 'AE1': 'æ', 'AE2': 'æ',\n",
    "    'AH': 'ə', 'AH0': 'ə', 'AH1': 'ə', 'AH2': 'ə',\n",
    "    'AO': 'ɒ', 'AO0': 'ɒ', 'AO1': 'ɒ', 'AO2': 'ɒ',\n",
    "    'AW': 'aw', 'AW0': 'aw', 'AW1': 'aw', 'AW2': 'aw',\n",
    "    'AY': 'aj', 'AY0': 'aj', 'AY1': 'aj', 'AY2': 'aj',\n",
    "    'B': 'b',\n",
    "    'CH': 'tʃ',\n",
    "    'D': 'd',\n",
    "    'DH': 'ð',\n",
    "    'EH': 'ɛ', 'EH0': 'ɛ', 'EH1': 'ɛ', 'EH2': 'ɛ',\n",
    "    'ER': 'ɝ', 'ER0': 'ɝ', 'ER1': 'ɝ', 'ER2': 'ɝ',\n",
    "    'EY': 'ej', 'EY0': 'ej', 'EY1': 'ej', 'EY2': 'ej',\n",
    "    'F': 'f',\n",
    "    'G': 'ɡ',\n",
    "    'HH': 'h',\n",
    "    'IH': 'ɪ', 'IH0': 'ɪ', 'IH1': 'ɪ', 'IH2': 'ɪ',\n",
    "    'IY': 'iː', 'IY0': 'iː', 'IY1': 'iː', 'IY2': 'iː',\n",
    "    'JH': 'dʒ',\n",
    "    'K': 'k',\n",
    "    'L': 'l',\n",
    "    'M': 'm',\n",
    "    'N': 'n',\n",
    "    'NG': 'ŋ',\n",
    "    'OW': 'ow', 'OW0': 'ow', 'OW1': 'ow', 'OW2': 'ow',\n",
    "    'OY': 'ɔj', 'OY0': 'ɔj', 'OY1': 'ɔj', 'OY2': 'ɔj',\n",
    "    'P': 'p',\n",
    "    'R': 'ɹ',\n",
    "    'S': 's',\n",
    "    'SH': 'ʃ',\n",
    "    'T': 't',\n",
    "    'TH': 'θ',\n",
    "    'UH': 'ʊ', 'UH0': 'ʊ', 'UH1': 'ʊ', 'UH2': 'ʊ',\n",
    "    'UW': 'ʉː', 'UW0': 'ʉː', 'UW1': 'ʉː', 'UW2': 'ʉː',\n",
    "    'V': 'v',\n",
    "    'W': 'w',\n",
    "    'Y': 'j',\n",
    "    'Z': 'z',\n",
    "    'ZH': 'ʒ',\n",
    "    ',': ' '\n",
    "}"
   ]
  },
  {
   "cell_type": "code",
   "execution_count": null,
   "metadata": {},
   "outputs": [],
   "source": [
    "#Koristimo mapu da prevedemo foneme dobijene od teksta u foneme koje znamo da procitamo\n",
    "\n",
    "def translate_phoneme(phoneme, phoneme_map):\n",
    "    return phoneme_map.get(phoneme, phoneme)"
   ]
  },
  {
   "cell_type": "code",
   "execution_count": null,
   "metadata": {},
   "outputs": [],
   "source": [
    "#Direktno pretvaranje teksta u mfa foneme\n",
    "\n",
    "def text2phoneme_mfa(text):\n",
    "    fonemi = text2phoneme(text)\n",
    "    fonemi_mfa = [translate_phoneme(p, phoneme_map) for p in fonemi]\n",
    "    return fonemi_mfa"
   ]
  },
  {
   "cell_type": "markdown",
   "metadata": {},
   "source": [
    "Lepljenje fonema i spajanje u snimak (text2speech v1)"
   ]
  },
  {
   "cell_type": "code",
   "execution_count": null,
   "metadata": {},
   "outputs": [],
   "source": [
    "#Funkcija koja dobije niz fonema, nalazi njihove optimalne snimke i lepi ih u jedan audio snimak\n",
    "#Ovde direktno pustamo taj audio snimak da cujemo prvu verziju koja je retardirana\n",
    "\n",
    "from pydub import AudioSegment\n",
    "import io\n",
    "from IPython.display import Audio, display\n",
    "\n",
    "def zalepi(foneme):\n",
    "    combined = AudioSegment.empty()\n",
    "\n",
    "    for fonema in foneme:\n",
    "        segment_path = os.path.join('foneme_wavs', f\"{fonema}_optimal.wav\")\n",
    "        if fonema == \" \":\n",
    "            segment_path = \"foneme_wavs/silent.wav\"\n",
    "\n",
    "        if os.path.exists(segment_path):\n",
    "            segment = AudioSegment.from_wav(segment_path)\n",
    "            combined += segment\n",
    "        else:\n",
    "            print(f\"Segment za fonemu {fonema} nije pronađen na putanji {segment_path}\")\n",
    "\n",
    "    buffer = io.BytesIO()\n",
    "    combined.export(buffer, format='wav')\n",
    "    buffer.seek(0)\n",
    "\n",
    "    display(Audio(buffer.read(), rate=combined.frame_rate))"
   ]
  },
  {
   "cell_type": "code",
   "execution_count": null,
   "metadata": {},
   "outputs": [],
   "source": [
    "#Sve je spremno sad samo spajamo pretvaranje teksta u G2P foneme, pa u MFA foneme pa ih procitamo\n",
    "\n",
    "def izgovori(text):\n",
    "    zalepi(text2phoneme_mfa(text))"
   ]
  },
  {
   "cell_type": "code",
   "execution_count": null,
   "metadata": {},
   "outputs": [],
   "source": [
    "#Pozivanje funkcije za citanje, ovde mogu da se igram i pokazujem ljudima kako ne radi\n",
    "\n",
    "izgovori(\"I can buy myself flowers   Write my name in the sand   Talk to myself for hours   Say things you dont understand\")"
   ]
  },
  {
   "cell_type": "markdown",
   "metadata": {},
   "source": [
    "Priprema outputaza CNN (spektrogrami pravih snimaka)"
   ]
  },
  {
   "cell_type": "code",
   "execution_count": null,
   "metadata": {},
   "outputs": [],
   "source": [
    "#Funkcija za pravljenje i cuvanje mel spektrograma od .wav fajla\n",
    "\n",
    "import librosa\n",
    "import matplotlib.pyplot as plt\n",
    "import numpy as np\n",
    "\n",
    "def create_mel_spectrogram(wav_file, output_file, sr=16000, duration=10):\n",
    "    y, _ = librosa.load(wav_file, sr=sr, duration=duration)\n",
    "    S = librosa.feature.melspectrogram(y=y, sr=sr, n_mels=128)\n",
    "    S_dB = librosa.power_to_db(S, ref=np.max)\n",
    "\n",
    "    expected_length = int(duration * sr / 512)\n",
    "    if S_dB.shape[1] < expected_length:\n",
    "        padding = expected_length - S_dB.shape[1]\n",
    "        S_dB = np.pad(S_dB, ((0, 0), (0, padding)), mode='constant', constant_values=-80)\n",
    "\n",
    "    plt.figure(figsize=(10, 4))\n",
    "    plt.imshow(S_dB, aspect='auto', origin='lower', cmap='inferno')\n",
    "    plt.axis('off')\n",
    "    \n",
    "    plt.savefig(output_file, bbox_inches='tight', pad_inches=0)\n",
    "    plt.close()"
   ]
  },
  {
   "cell_type": "code",
   "execution_count": null,
   "metadata": {},
   "outputs": [],
   "source": [
    "#Pravljenje outputa za dataset za CNN od originalnih .wav fajlova iz LJSpeech-a\n",
    "#Pravimo spektrogram za sve snimke jer bi ovako trebalo da zvuci govor\n",
    "\n",
    "def process_all_wavs(folder_path, output_folder_path):\n",
    "    if not os.path.exists(output_folder_path):\n",
    "        os.makedirs(output_folder_path)\n",
    "    \n",
    "    for file_name in os.listdir(folder_path):\n",
    "        if file_name.endswith('.wav'):\n",
    "            wav_file = os.path.join(folder_path, file_name)\n",
    "            output_file = os.path.join(output_folder_path, file_name.replace('.wav', '.png'))\n",
    "\n",
    "            if not os.path.exists(output_file):\n",
    "                create_mel_spectrogram(wav_file, output_file)"
   ]
  },
  {
   "cell_type": "code",
   "execution_count": null,
   "metadata": {},
   "outputs": [],
   "source": [
    "#Pozivanje funkcija i generisanje dataseta\n",
    "\n",
    "folder_path = 'LJSpeech Dataset/LJSpeech-1.1/wavs'\n",
    "output_folder_path = 'Spektrogrami/outputs'\n",
    "process_all_wavs(folder_path, output_folder_path)"
   ]
  },
  {
   "cell_type": "markdown",
   "metadata": {},
   "source": [
    "Priprema inputa za CNN (moji generisani snimci transkripcija iz LJSpeecha --> njihovi spektrogrami)"
   ]
  },
  {
   "cell_type": "code",
   "execution_count": null,
   "metadata": {},
   "outputs": [],
   "source": [
    "#Sada opet lepimo prosledjene foneme ali umesto da ih direktno display-ujemo ih returnujemo da bismo ih posle stavili u folder\n",
    "\n",
    "def foneme2audio(foneme):\n",
    "    combined = AudioSegment.empty()\n",
    "\n",
    "    for fonema in foneme:\n",
    "        segment_path = os.path.join('foneme_wavs', f\"{fonema}_optimal.wav\")\n",
    "        if fonema == \" \":\n",
    "            segment_path = \"foneme_wavs/silent.wav\"\n",
    "\n",
    "        if os.path.exists(segment_path):\n",
    "            segment = AudioSegment.from_wav(segment_path)\n",
    "            combined += segment\n",
    "        else:\n",
    "            print(f\"Segment za fonemu {fonema} nije pronađen na putanji {segment_path}\")\n",
    "\n",
    "    buffer = io.BytesIO()\n",
    "    combined.export(buffer, format='wav')\n",
    "    buffer.seek(0)\n",
    "\n",
    "    return buffer.getvalue()"
   ]
  },
  {
   "cell_type": "code",
   "execution_count": null,
   "metadata": {},
   "outputs": [],
   "source": [
    "#Funkcija kojoj prosledimo podatke .wav i adresu na koju da ga sacuva\n",
    "\n",
    "def save_wav_from_bytes(data, file_path):\n",
    "    with open(file_path, 'wb') as f:\n",
    "        f.write(data)"
   ]
  },
  {
   "cell_type": "code",
   "execution_count": null,
   "metadata": {},
   "outputs": [],
   "source": [
    "#Uzima txt fajl i generise wav fajl od teksta\n",
    "#Format txt fajla je da prvo pise naziv fajla i unutra pa tek onda pravi tekst\n",
    "\n",
    "def process_text_file(file_path):\n",
    "    with open(file_path, 'r', encoding='utf-8') as f:\n",
    "        lines = f.readlines()\n",
    "    \n",
    "    first_line = lines[0].strip()\n",
    "    first_word = first_line.split()[0]\n",
    "    \n",
    "    remaining_text = ' '.join(first_line.split()[1:]) + ' ' + ' '.join([line.strip() for line in lines[1:]])\n",
    "    \n",
    "    foneme = text2phoneme_mfa(remaining_text)\n",
    "    \n",
    "    audio_data = foneme2audio(foneme)\n",
    "    \n",
    "    output_wav_file = f\"{first_word}.wav\"\n",
    "    \n",
    "    save_wav_from_bytes(audio_data, output_wav_file)"
   ]
  },
  {
   "cell_type": "code",
   "execution_count": null,
   "metadata": {},
   "outputs": [],
   "source": [
    "#Pretvara sve txt iz datog foldera u wav i stavlja ih u drugi folder\n",
    "\n",
    "def process_all_text_files(folder_path):\n",
    "    for file_name in os.listdir(folder_path):\n",
    "        if file_name.endswith('.txt'):\n",
    "            file_path = os.path.join(folder_path, file_name)\n",
    "            process_text_file(file_path)"
   ]
  },
  {
   "cell_type": "code",
   "execution_count": null,
   "metadata": {},
   "outputs": [],
   "source": [
    "#Pozivamo funkcije na LJSpeech recenicama i generisemo ih izgovorene\n",
    "\n",
    "txt_folder_path = 'LJSpeech Dataset/LJSpeech-1.1/txts'\n",
    "process_all_text_files(txt_folder_path)"
   ]
  },
  {
   "cell_type": "code",
   "execution_count": null,
   "metadata": {},
   "outputs": [],
   "source": [
    "import os\n",
    "\n",
    "folder_path = 'my_wavs'\n",
    "output_folder_path = 'Spektrogrami/inputs'\n",
    "process_all_wavs(folder_path, output_folder_path)"
   ]
  }
 ],
 "metadata": {
  "kernelspec": {
   "display_name": "Python 3",
   "language": "python",
   "name": "python3"
  },
  "language_info": {
   "codemirror_mode": {
    "name": "ipython",
    "version": 3
   },
   "file_extension": ".py",
   "mimetype": "text/x-python",
   "name": "python",
   "nbconvert_exporter": "python",
   "pygments_lexer": "ipython3",
   "version": "3.11.9"
  }
 },
 "nbformat": 4,
 "nbformat_minor": 2
}
